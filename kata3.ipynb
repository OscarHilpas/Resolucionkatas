{
 "cells": [
  {
   "cell_type": "code",
   "execution_count": 4,
   "metadata": {},
   "outputs": [
    {
     "name": "stdout",
     "output_type": "stream",
     "text": [
      "Un asteroide se acerca!!\n"
     ]
    }
   ],
   "source": [
    "asteroide = 53\n",
    "if asteroide > 20:\n",
    "    print (\"Un asteroide se acerca!!\")\n",
    "else:\n",
    "    print (\"No hay riesgos\")"
   ]
  },
  {
   "cell_type": "code",
   "execution_count": 5,
   "metadata": {},
   "outputs": [
    {
     "name": "stdout",
     "output_type": "stream",
     "text": [
      "Nada por ahora\n"
     ]
    }
   ],
   "source": [
    "asteroide = 19\n",
    "if asteroide > 20:\n",
    "    print (\"Hay asteroides visibles!!\")\n",
    "elif asteroide == 20:\n",
    "    print (\"Hay asteroides visibles!!\")\n",
    "else: \n",
    "    print (\"Nada por ahora\")"
   ]
  },
  {
   "cell_type": "code",
   "execution_count": 3,
   "metadata": {},
   "outputs": [
    {
     "name": "stdout",
     "output_type": "stream",
     "text": [
      "Un asteroide peligroso ha sido detectado\n"
     ]
    }
   ],
   "source": [
    "tamaño_asteroide = 50\n",
    "velocidad_asteroide = 30\n",
    "if tamaño_asteroide > 25 and velocidad_asteroide > 25:\n",
    "    print (\"Un asteroide peligroso ha sido detectado\")  \n",
    "elif tamaño_asteroide >= 25:\n",
    "    print (\"Un asteroide va a ser visible!!\")\n",
    "elif tamaño_asteroide < 25:\n",
    "    print (\"No hay riesgos ahora\")\n",
    "else:\n",
    "    print (\"No hay riesgos ahora\")"
   ]
  }
 ],
 "metadata": {
  "interpreter": {
   "hash": "669f5abd92f1a410df15b0643b9f42360e277a412fc08ae8bc7d7911cf7e8f3d"
  },
  "kernelspec": {
   "display_name": "Python 3.10.2 64-bit",
   "language": "python",
   "name": "python3"
  },
  "language_info": {
   "codemirror_mode": {
    "name": "ipython",
    "version": 3
   },
   "file_extension": ".py",
   "mimetype": "text/x-python",
   "name": "python",
   "nbconvert_exporter": "python",
   "pygments_lexer": "ipython3",
   "version": "3.10.2"
  },
  "orig_nbformat": 4
 },
 "nbformat": 4,
 "nbformat_minor": 2
}
